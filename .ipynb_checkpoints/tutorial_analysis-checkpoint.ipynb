{
 "cells": [
  {
   "cell_type": "markdown",
   "metadata": {},
   "source": [
    "# Анализ открытых данных ФНС РФ  "
   ]
  },
  {
   "cell_type": "markdown",
   "metadata": {},
   "source": [
    "## 1. Данные о численности сотрудников"
   ]
  },
  {
   "cell_type": "code",
   "execution_count": 23,
   "metadata": {},
   "outputs": [
    {
     "name": "stdout",
     "output_type": "stream",
     "text": [
      "start\n",
      "Общая информация о датасете:\n",
      "Всего записей в датасете: 2380191 \n",
      "              People\n",
      "count  2.380191e+06\n",
      "mean   8.749879e+00\n",
      "std    6.804749e+01\n",
      "min    0.000000e+00\n",
      "25%    1.000000e+00\n",
      "50%    1.000000e+00\n",
      "75%    4.000000e+00\n",
      "max    1.627600e+04 \n",
      "\n",
      "\n",
      " Компаний со штатом 0 чел.:  323302\n",
      "\n",
      " Компаний со штатом 1 чел.:  991147\n",
      "\n",
      " Компаний со штатом от 2 до 10 чел.:  777067\n",
      "\n",
      " Компаний со штатом от 11 до 100 чел.:  263295\n",
      "\n",
      " Компаний со штатом от 101 до 10000 чел.:  23926\n",
      "\n",
      " Компаний со штатом от 1001 до 10000 чел.:  1442\n",
      "\n",
      " Компаний со штатом больше 10000 чел.:  12\n"
     ]
    }
   ],
   "source": [
    "# импортируем необходимые библиотеки\n",
    "import pandas as pd\n",
    "import numpy as np\n",
    "from pandas import ExcelWriter\n",
    "\n",
    "\n",
    "def people_distribution (df, data='People'):\n",
    "    \"\"\"\n",
    "    функция на вход берет датасет с численностью сотрудников (по умолчанию колонка - People)\n",
    "    и выдает распределение компаний по численности сотрудниковв датасете \n",
    "    \"\"\"\n",
    "    zero=df[df['People']==0]\n",
    "    print ('\\n Компаний со штатом 0 чел.: ',zero['People'].count ())\n",
    "\n",
    "    non_zero=df[df['People']!=0]\n",
    "\n",
    "    one_man_army=df[df['People']==1]\n",
    "    print ('\\n Компаний со штатом 1 чел.: ',one_man_army['People'].count ())\n",
    "\n",
    "\n",
    "    man_10=df[(df['People']>1)&(df['People']<=10)]\n",
    "    print ('\\n Компаний со штатом от 2 до 10 чел.: ', man_10['People'].count ())\n",
    "\n",
    "\n",
    "    man_100=df[(df['People']>10)&(df['People']<=100)]\n",
    "    print ('\\n Компаний со штатом от 11 до 100 чел.: ', man_100['People'].count ())\n",
    "\n",
    "    man_1000=df[(df['People']>100)&(df['People']<=1000)]\n",
    "    print ('\\n Компаний со штатом от 101 до 10000 чел.: ', man_1000['People'].count ())\n",
    "\n",
    "    man_10000=df[(df['People']>1000)&(df['People']<=10000)]\n",
    "    print ('\\n Компаний со штатом от 1001 до 10000 чел.: ', man_10000['People'].count ())\n",
    "\n",
    "    man_10000_more=df[df['People']>10001]\n",
    "    print ('\\n Компаний со штатом больше 10000 чел.: ', man_10000_more['People'].count ())\n",
    "\n",
    "# загружаем датасет полностью в память\n",
    "datafile=\"./2018_people.pkl\"\n",
    "df=pd.read_pickle(datafile)\n",
    "\n",
    "print ('start')\n",
    "print ('Общая информация о датасете:')\n",
    "print ('Всего записей в датасете:',df['People'].count (),'\\n',df.describe(),'\\n')\n",
    "\n",
    "people_distribution (df)\n",
    "\n",
    "\n",
    "\n",
    "top100=non_zero.nlargest(100,'People') # выбираем ТОП-100 компаний по численности\n",
    "\n",
    "#print (top100.head()) # печатаем 5 компаний из нового датасета\n",
    "\n",
    "# собираем данные в разрезе региона\n",
    "top_region=non_zero.groupby(['region'])['region','People'].agg([np.mean, np.std, np.min, np.max])\n",
    "\n",
    "\n",
    "# сохраняем все в единый файл в формате Excel\n",
    "\n",
    "writer = ExcelWriter ('./top_workers_2018.xlsx')\n",
    "\n",
    "# создаем листы\n",
    "\n",
    "top100.to_excel(writer,'Top-100') # ТОП-100 копаний по численности\n",
    "top_region.to_excel(writer,'Regions') # сводная информация по регионам\n",
    "\n",
    "writer.save()"
   ]
  },
  {
   "cell_type": "code",
   "execution_count": null,
   "metadata": {},
   "outputs": [],
   "source": []
  }
 ],
 "metadata": {
  "kernelspec": {
   "display_name": "Python 3",
   "language": "python",
   "name": "python3"
  },
  "language_info": {
   "codemirror_mode": {
    "name": "ipython",
    "version": 3
   },
   "file_extension": ".py",
   "mimetype": "text/x-python",
   "name": "python",
   "nbconvert_exporter": "python",
   "pygments_lexer": "ipython3",
   "version": "3.6.8"
  }
 },
 "nbformat": 4,
 "nbformat_minor": 2
}
